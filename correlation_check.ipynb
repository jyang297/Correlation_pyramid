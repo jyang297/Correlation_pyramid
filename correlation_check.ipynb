{
 "cells": [
  {
   "cell_type": "code",
   "id": "initial_id",
   "metadata": {
    "collapsed": true,
    "ExecuteTime": {
     "end_time": "2024-07-24T03:37:24.991566Z",
     "start_time": "2024-07-24T03:37:20.922056Z"
    }
   },
   "source": [
    "import torch\n",
    "import torch.nn as nn\n",
    "import model.softsplat \n",
    "import model.utils.correlation"
   ],
   "outputs": [
    {
     "ename": "ModuleNotFoundError",
     "evalue": "No module named 'cupy'",
     "output_type": "error",
     "traceback": [
      "\u001B[0;31m---------------------------------------------------------------------------\u001B[0m",
      "\u001B[0;31mModuleNotFoundError\u001B[0m                       Traceback (most recent call last)",
      "Cell \u001B[0;32mIn[1], line 4\u001B[0m\n\u001B[1;32m      2\u001B[0m \u001B[38;5;28;01mimport\u001B[39;00m \u001B[38;5;21;01mtorch\u001B[39;00m\u001B[38;5;21;01m.\u001B[39;00m\u001B[38;5;21;01mnn\u001B[39;00m \u001B[38;5;28;01mas\u001B[39;00m \u001B[38;5;21;01mnn\u001B[39;00m\n\u001B[1;32m      3\u001B[0m \u001B[38;5;28;01mimport\u001B[39;00m \u001B[38;5;21;01mmodel\u001B[39;00m\u001B[38;5;21;01m.\u001B[39;00m\u001B[38;5;21;01msoftsplat\u001B[39;00m \n\u001B[0;32m----> 4\u001B[0m \u001B[38;5;28;01mimport\u001B[39;00m \u001B[38;5;21;01mmodel\u001B[39;00m\u001B[38;5;21;01m.\u001B[39;00m\u001B[38;5;21;01mutils\u001B[39;00m\u001B[38;5;21;01m.\u001B[39;00m\u001B[38;5;21;01mcorrelation\u001B[39;00m\n",
      "File \u001B[0;32m~/PycharmProjects/GithubRepo/Correlation_pyramid/model/utils/correlation.py:5\u001B[0m\n\u001B[1;32m      1\u001B[0m \u001B[38;5;66;03m#!/usr/bin/env python\u001B[39;00m\n\u001B[1;32m      3\u001B[0m \u001B[38;5;28;01mimport\u001B[39;00m \u001B[38;5;21;01mtorch\u001B[39;00m\n\u001B[0;32m----> 5\u001B[0m \u001B[38;5;28;01mimport\u001B[39;00m \u001B[38;5;21;01mcupy\u001B[39;00m\n\u001B[1;32m      6\u001B[0m \u001B[38;5;28;01mimport\u001B[39;00m \u001B[38;5;21;01mre\u001B[39;00m\n\u001B[1;32m      8\u001B[0m kernel_Correlation_rearrange \u001B[38;5;241m=\u001B[39m \u001B[38;5;124m'''\u001B[39m\n\u001B[1;32m      9\u001B[0m \u001B[38;5;124m\textern \u001B[39m\u001B[38;5;124m\"\u001B[39m\u001B[38;5;124mC\u001B[39m\u001B[38;5;124m\"\u001B[39m\u001B[38;5;124m __global__ void kernel_Correlation_rearrange(\u001B[39m\n\u001B[1;32m     10\u001B[0m \u001B[38;5;124m\t\tconst int n,\u001B[39m\n\u001B[0;32m   (...)\u001B[0m\n\u001B[1;32m     32\u001B[0m \u001B[38;5;124m\t}\u001B[39m\n\u001B[1;32m     33\u001B[0m \u001B[38;5;124m'''\u001B[39m\n",
      "\u001B[0;31mModuleNotFoundError\u001B[0m: No module named 'cupy'"
     ]
    }
   ],
   "execution_count": 1
  },
  {
   "metadata": {
    "ExecuteTime": {
     "end_time": "2024-07-24T03:40:24.952735Z",
     "start_time": "2024-07-24T03:40:24.183596Z"
    }
   },
   "cell_type": "code",
   "source": "!pip install cupy-cuda111  # For CPU support",
   "id": "d502590a685a97fd",
   "outputs": [
    {
     "name": "stdout",
     "output_type": "stream",
     "text": [
      "\u001B[31mERROR: Could not find a version that satisfies the requirement cupy-cuda111 (from versions: none)\u001B[0m\u001B[31m\r\n",
      "\u001B[0m\u001B[31mERROR: No matching distribution found for cupy-cuda111\u001B[0m\u001B[31m\r\n",
      "\u001B[0m\r\n",
      "\u001B[1m[\u001B[0m\u001B[34;49mnotice\u001B[0m\u001B[1;39;49m]\u001B[0m\u001B[39;49m A new release of pip is available: \u001B[0m\u001B[31;49m23.2.1\u001B[0m\u001B[39;49m -> \u001B[0m\u001B[32;49m24.1.2\u001B[0m\r\n",
      "\u001B[1m[\u001B[0m\u001B[34;49mnotice\u001B[0m\u001B[1;39;49m]\u001B[0m\u001B[39;49m To update, run: \u001B[0m\u001B[32;49mpip install --upgrade pip\u001B[0m\r\n"
     ]
    }
   ],
   "execution_count": 3
  },
  {
   "metadata": {},
   "cell_type": "code",
   "outputs": [],
   "execution_count": null,
   "source": [
    " corr_fn=correlation.FunctionCorrelation\n",
    "        bi_flow = F.interpolate(\n",
    "                    input=bi_flow_previous, scale_factor=0.5,\n",
    "                    mode=\"bilinear\", align_corners=False) * 0.5\n",
    "        warped_feat0 = softsplat.FunctionSoftsplat(\n",
    "                tenInput=feature_0, tenFlow=bi_flow[:, :2]*0.25*0.5,\n",
    "                tenMetric=None, strType='average')\n",
    "        warped_feat1 = softsplat.FunctionSoftsplat(\n",
    "                tenInput=feature_1, tenFlow=bi_flow[:, 2:]*0.25*0.5,\n",
    "                tenMetric=None, strType='average')\n",
    "        volume = F.leaky_relu(\n",
    "                input=corr_fn(tenFirst=warped_feat0, tenSecond=warped_feat1),\n",
    "                negative_slope=0.1, inplace=False)\n",
    "        return warped_feat0, warped_feat1, volume"
   ],
   "id": "593aa11f1413e492"
  }
 ],
 "metadata": {
  "kernelspec": {
   "display_name": "Python 3",
   "language": "python",
   "name": "python3"
  },
  "language_info": {
   "codemirror_mode": {
    "name": "ipython",
    "version": 2
   },
   "file_extension": ".py",
   "mimetype": "text/x-python",
   "name": "python",
   "nbconvert_exporter": "python",
   "pygments_lexer": "ipython2",
   "version": "2.7.6"
  }
 },
 "nbformat": 4,
 "nbformat_minor": 5
}
